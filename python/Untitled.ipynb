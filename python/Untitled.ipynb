{
 "cells": [
  {
   "cell_type": "code",
   "execution_count": 15,
   "id": "dfc901a6-e3a2-44a0-8822-f425007d9ffa",
   "metadata": {},
   "outputs": [],
   "source": [
    "def readDiscussionCSV(inputFilename='ptt.csv', outputFilename='ptt_discussions.pkl', num=None):\n",
    "    \"\"\"直接讀取CSV格式的討論串資料，將messages存為留言列表\"\"\"\n",
    "    try:\n",
    "        # 讀取CSV檔案\n",
    "        data = pd.read_csv(PATH + inputFilename)\n",
    "        \n",
    "        # 如果指定了數量，只取前num筆資料\n",
    "        if num is not None:\n",
    "            data = data.head(num)\n",
    "    except Exception as e:\n",
    "        print(f\"讀取資料失敗: {str(e)}\")\n",
    "        return None\n",
    "    \n",
    "    # 檢查必要的欄位是否存在\n",
    "    required_columns = ['post', 'next_resp']\n",
    "    if not all(col in data.columns for col in required_columns):\n",
    "        print(f\"資料缺少必要的欄位，需要: {required_columns}\")\n",
    "        return None\n",
    "    \n",
    "    # 如果沒有prev_resp欄位，創建一個\n",
    "    if 'prev_resp' not in data.columns:\n",
    "        data['prev_resp'] = '<SEP>'\n",
    "    \n",
    "    # 按照相同的post分組為討論串\n",
    "    discussion_threads = []\n",
    "    current_post = None\n",
    "    current_messages = []\n",
    "    thread_index = 0\n",
    "    \n",
    "    for idx, row in data.iterrows():\n",
    "        post = row['post']\n",
    "        next_resp = row['next_resp']\n",
    "        prev_resp = row['prev_resp']\n",
    "        \n",
    "        # 如果是新的討論主題，開始新的討論串\n",
    "        if post != current_post:\n",
    "            if current_messages:\n",
    "                discussion_threads.append({\n",
    "                    'thread_id': thread_index,\n",
    "                    'thread_post': current_post,\n",
    "                    'messages': current_messages\n",
    "                })\n",
    "                thread_index += 1\n",
    "            current_messages = []\n",
    "            current_post = post\n",
    "        \n",
    "        # 添加當前留言到討論串 - 直接添加留言內容而非字典\n",
    "        if prev_resp != '<SEP>':\n",
    "            current_messages.append(prev_resp)\n",
    "        current_messages.append(next_resp)\n",
    "    \n",
    "    # 添加最後一個討論串\n",
    "    if current_messages:\n",
    "        discussion_threads.append({\n",
    "            'thread_id': thread_index,\n",
    "            'thread_post': current_post,\n",
    "            'messages': current_messages\n",
    "        })\n",
    "    \n",
    "    # 將討論串資料轉換為DataFrame並保存\n",
    "    discussions_df = pd.DataFrame({\n",
    "        'thread_id': [t['thread_id'] for t in discussion_threads],\n",
    "        'thread_post': [t['thread_post'] for t in discussion_threads],\n",
    "        'messages_count': [len(t['messages']) for t in discussion_threads],\n",
    "        'messages': [t['messages'] for t in discussion_threads]\n",
    "    })\n",
    "    \n",
    "    # # 保存處理後的資料\n",
    "    # discussions_df.to_pickle(PATH + outputFilename)\n",
    "    # print(f\"處理完成: 找到 {len(discussion_threads)} 個討論串\")\n",
    "    \n",
    "    return discussions_df"
   ]
  },
  {
   "cell_type": "code",
   "execution_count": 16,
   "id": "0b0acd69-032b-4b7a-88d5-677be778597b",
   "metadata": {},
   "outputs": [],
   "source": [
    "discussions_df = readDiscussionCSV(inputFilename='ptt_real.csv', outputFilename='ptt_discussions.pkl', num=None)"
   ]
  },
  {
   "cell_type": "code",
   "execution_count": 18,
   "id": "b01481e4-e0bf-49e2-aa55-554e14e6d0fa",
   "metadata": {},
   "outputs": [
    {
     "name": "stdout",
     "output_type": "stream",
     "text": [
      "['1. XD XD 他會讀心術 XD', '1. XD XD 他會讀心術 XD', '1.真的很可愛XD 但我覺得他知道你要說什麼啦', '1.真的很可愛XD 但我覺得他知道你要說什麼啦', '火車，尤其是高鐵，不要亂搭', '火車，尤其是高鐵，不要亂搭', '很多人會搞錯以為くまもん就是熊本啊XD', '很多人會搞錯以為くまもん就是熊本啊XD', '重點是有直達鹿耳島的', '重點是有直達鹿耳島的', '第一個好可www好可愛*', '第一個好可www好可愛*', '第一個超好笑  重點旁邊的居然聽得懂XD', '第一個超好笑  重點旁邊的居然聽得懂XD', '幸好他沒有從包包拿出來，那一定超爆笑', '幸好他沒有從包包拿出來，那一定超爆笑', '1. 結果遇到日劇Hero的酒保：あるよ', '1. 結果遇到日劇Hero的酒保：あるよ', '從包包拿出一隻部長：有る\\u3000那個畫面XDDDDD', '從包包拿出一隻部長：有る\\u3000那個畫面XDDDDD', '大概是猜你要去看熊本熊吧', '大概是猜你要去看熊本熊吧', '第一個蠻好笑的哈哈哈', '第一個蠻好笑的哈哈哈', 'XD覺得好笑', 'XD覺得好笑', '我在餐廳要點蕎麥麵點成炸雞塊完全不會日文', '我在餐廳要點蕎麥麵點成炸雞塊完全不會日文', '你知道kumamon別人還可以猜，我第一次去熊本沒做功課不知道怎麼唸，到處用英文問人說有一隻長的很奇怪的熊在哪裡？結果沒人知道我問什麼...', '你知道kumamon別人還可以猜，我第一次去熊本沒做功課不知道怎麼唸，到處用英文問人說有一隻長的很奇怪的熊在哪裡？結果沒人知道我問什麼...', '長得很奇怪的熊 XDDD部長表示:', '長得很奇怪的熊 XDDD部長表示:', '要講很色的熊(?', '要講很色的熊(?', '問她哦酥酥咩然後就點那個啊', '問她哦酥酥咩然後就點那個啊', '第一個我笑到併軌', '第一個我笑到併軌', '阿魯有XD 好可愛', '阿魯有XD 好可愛', '總之  每道菜來一個', '總之  每道菜來一個', '我笑死']\n"
     ]
    }
   ],
   "source": [
    "print(discussions_df['messages'].iloc[0])"
   ]
  },
  {
   "cell_type": "code",
   "execution_count": null,
   "id": "0809a920-b199-4bac-87fb-97c71b703d1f",
   "metadata": {},
   "outputs": [],
   "source": []
  }
 ],
 "metadata": {
  "kernelspec": {
   "display_name": "Python 3 (ipykernel)",
   "language": "python",
   "name": "python3"
  },
  "language_info": {
   "codemirror_mode": {
    "name": "ipython",
    "version": 3
   },
   "file_extension": ".py",
   "mimetype": "text/x-python",
   "name": "python",
   "nbconvert_exporter": "python",
   "pygments_lexer": "ipython3",
   "version": "3.10.12"
  }
 },
 "nbformat": 4,
 "nbformat_minor": 5
}
